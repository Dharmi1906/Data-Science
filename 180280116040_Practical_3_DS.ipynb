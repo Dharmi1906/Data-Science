{
 "cells": [
  {
   "cell_type": "markdown",
   "metadata": {},
   "source": [
    "# DataScience Practical - 3"
   ]
  },
  {
   "cell_type": "markdown",
   "metadata": {},
   "source": [
    "# `180280116040` Dharmistha Kosti"
   ]
  },
  {
   "cell_type": "markdown",
   "metadata": {},
   "source": [
    "## **Aim: Entropy, Information Gain and DATASET Attribute Ranking**"
   ]
  },
  {
   "cell_type": "code",
   "execution_count": 1,
   "metadata": {},
   "outputs": [],
   "source": [
    "#importing libraries \n",
    "import pandas as pd\n",
    "import seaborn as sns\n",
    "import math\n",
    "import numpy as np"
   ]
  },
  {
   "cell_type": "code",
   "execution_count": 2,
   "metadata": {},
   "outputs": [
    {
     "data": {
      "text/html": [
       "<div>\n",
       "<style scoped>\n",
       "    .dataframe tbody tr th:only-of-type {\n",
       "        vertical-align: middle;\n",
       "    }\n",
       "\n",
       "    .dataframe tbody tr th {\n",
       "        vertical-align: top;\n",
       "    }\n",
       "\n",
       "    .dataframe thead th {\n",
       "        text-align: right;\n",
       "    }\n",
       "</style>\n",
       "<table border=\"1\" class=\"dataframe\">\n",
       "  <thead>\n",
       "    <tr style=\"text-align: right;\">\n",
       "      <th></th>\n",
       "      <th>age</th>\n",
       "      <th>sex</th>\n",
       "      <th>cp</th>\n",
       "      <th>trestbps</th>\n",
       "      <th>chol</th>\n",
       "      <th>fbs</th>\n",
       "      <th>restecg</th>\n",
       "      <th>thalach</th>\n",
       "      <th>exang</th>\n",
       "      <th>oldpeak</th>\n",
       "      <th>slope</th>\n",
       "      <th>ca</th>\n",
       "      <th>thal</th>\n",
       "      <th>target</th>\n",
       "    </tr>\n",
       "  </thead>\n",
       "  <tbody>\n",
       "    <tr>\n",
       "      <td>0</td>\n",
       "      <td>52</td>\n",
       "      <td>1</td>\n",
       "      <td>0</td>\n",
       "      <td>125</td>\n",
       "      <td>212</td>\n",
       "      <td>0</td>\n",
       "      <td>1</td>\n",
       "      <td>168</td>\n",
       "      <td>0</td>\n",
       "      <td>1.0</td>\n",
       "      <td>2</td>\n",
       "      <td>2</td>\n",
       "      <td>3</td>\n",
       "      <td>0</td>\n",
       "    </tr>\n",
       "    <tr>\n",
       "      <td>1</td>\n",
       "      <td>53</td>\n",
       "      <td>1</td>\n",
       "      <td>0</td>\n",
       "      <td>140</td>\n",
       "      <td>203</td>\n",
       "      <td>1</td>\n",
       "      <td>0</td>\n",
       "      <td>155</td>\n",
       "      <td>1</td>\n",
       "      <td>3.1</td>\n",
       "      <td>0</td>\n",
       "      <td>0</td>\n",
       "      <td>3</td>\n",
       "      <td>0</td>\n",
       "    </tr>\n",
       "    <tr>\n",
       "      <td>2</td>\n",
       "      <td>70</td>\n",
       "      <td>1</td>\n",
       "      <td>0</td>\n",
       "      <td>145</td>\n",
       "      <td>174</td>\n",
       "      <td>0</td>\n",
       "      <td>1</td>\n",
       "      <td>125</td>\n",
       "      <td>1</td>\n",
       "      <td>2.6</td>\n",
       "      <td>0</td>\n",
       "      <td>0</td>\n",
       "      <td>3</td>\n",
       "      <td>0</td>\n",
       "    </tr>\n",
       "    <tr>\n",
       "      <td>3</td>\n",
       "      <td>61</td>\n",
       "      <td>1</td>\n",
       "      <td>0</td>\n",
       "      <td>148</td>\n",
       "      <td>203</td>\n",
       "      <td>0</td>\n",
       "      <td>1</td>\n",
       "      <td>161</td>\n",
       "      <td>0</td>\n",
       "      <td>0.0</td>\n",
       "      <td>2</td>\n",
       "      <td>1</td>\n",
       "      <td>3</td>\n",
       "      <td>0</td>\n",
       "    </tr>\n",
       "    <tr>\n",
       "      <td>4</td>\n",
       "      <td>62</td>\n",
       "      <td>0</td>\n",
       "      <td>0</td>\n",
       "      <td>138</td>\n",
       "      <td>294</td>\n",
       "      <td>1</td>\n",
       "      <td>1</td>\n",
       "      <td>106</td>\n",
       "      <td>0</td>\n",
       "      <td>1.9</td>\n",
       "      <td>1</td>\n",
       "      <td>3</td>\n",
       "      <td>2</td>\n",
       "      <td>0</td>\n",
       "    </tr>\n",
       "  </tbody>\n",
       "</table>\n",
       "</div>"
      ],
      "text/plain": [
       "   age  sex  cp  trestbps  chol  fbs  restecg  thalach  exang  oldpeak  slope  \\\n",
       "0   52    1   0       125   212    0        1      168      0      1.0      2   \n",
       "1   53    1   0       140   203    1        0      155      1      3.1      0   \n",
       "2   70    1   0       145   174    0        1      125      1      2.6      0   \n",
       "3   61    1   0       148   203    0        1      161      0      0.0      2   \n",
       "4   62    0   0       138   294    1        1      106      0      1.9      1   \n",
       "\n",
       "   ca  thal  target  \n",
       "0   2     3       0  \n",
       "1   0     3       0  \n",
       "2   0     3       0  \n",
       "3   1     3       0  \n",
       "4   3     2       0  "
      ]
     },
     "execution_count": 2,
     "metadata": {},
     "output_type": "execute_result"
    }
   ],
   "source": [
    "Heart_data=pd.read_csv(r'C:\\Users\\HP\\Downloads\\dataset\\heart_disease.csv')\n",
    "Heart_data.head(5)"
   ]
  },
  {
   "cell_type": "code",
   "execution_count": 3,
   "metadata": {},
   "outputs": [
    {
     "data": {
      "text/plain": [
       "1025"
      ]
     },
     "execution_count": 3,
     "metadata": {},
     "output_type": "execute_result"
    }
   ],
   "source": [
    "# Finding length of dataset\n",
    "len(Heart_data)"
   ]
  },
  {
   "cell_type": "code",
   "execution_count": 4,
   "metadata": {},
   "outputs": [
    {
     "data": {
      "text/plain": [
       "age         0\n",
       "sex         0\n",
       "cp          0\n",
       "trestbps    0\n",
       "chol        0\n",
       "fbs         0\n",
       "restecg     0\n",
       "thalach     0\n",
       "exang       0\n",
       "oldpeak     0\n",
       "slope       0\n",
       "ca          0\n",
       "thal        0\n",
       "target      0\n",
       "dtype: int64"
      ]
     },
     "execution_count": 4,
     "metadata": {},
     "output_type": "execute_result"
    }
   ],
   "source": [
    "# Finding sum of null values\n",
    "Heart_data.isna().sum()"
   ]
  },
  {
   "cell_type": "code",
   "execution_count": 5,
   "metadata": {},
   "outputs": [
    {
     "data": {
      "text/plain": [
       "<matplotlib.axes._subplots.AxesSubplot at 0x285dfde4488>"
      ]
     },
     "execution_count": 5,
     "metadata": {},
     "output_type": "execute_result"
    },
    {
     "data": {
      "image/png": "[encoded data removed]",
      "text/plain": [
       "<Figure size 432x288 with 1 Axes>"
      ]
     },
     "metadata": {
      "needs_background": "light"
     },
     "output_type": "display_data"
    }
   ],
   "source": [
    "sns.countplot(x=\"sex\",hue=\"target\", data=Heart_data)\n",
    "sns.countplot(x=\"sex\", data=Heart_data)\n",
    "sns.countplot(x=\"age\",hue=\"sex\", data=Heart_data)"
   ]
  },
  {
   "cell_type": "code",
   "execution_count": 6,
   "metadata": {},
   "outputs": [
    {
     "data": {
      "text/html": [
       "<div>\n",
       "<style scoped>\n",
       "    .dataframe tbody tr th:only-of-type {\n",
       "        vertical-align: middle;\n",
       "    }\n",
       "\n",
       "    .dataframe tbody tr th {\n",
       "        vertical-align: top;\n",
       "    }\n",
       "\n",
       "    .dataframe thead th {\n",
       "        text-align: right;\n",
       "    }\n",
       "</style>\n",
       "<table border=\"1\" class=\"dataframe\">\n",
       "  <thead>\n",
       "    <tr style=\"text-align: right;\">\n",
       "      <th></th>\n",
       "      <th>age</th>\n",
       "      <th>sex</th>\n",
       "      <th>cp</th>\n",
       "      <th>trestbps</th>\n",
       "      <th>chol</th>\n",
       "      <th>fbs</th>\n",
       "      <th>restecg</th>\n",
       "      <th>thalach</th>\n",
       "      <th>exang</th>\n",
       "      <th>oldpeak</th>\n",
       "      <th>slope</th>\n",
       "      <th>ca</th>\n",
       "      <th>thal</th>\n",
       "      <th>target</th>\n",
       "      <th>AgeRange</th>\n",
       "    </tr>\n",
       "  </thead>\n",
       "  <tbody>\n",
       "    <tr>\n",
       "      <td>0</td>\n",
       "      <td>52</td>\n",
       "      <td>1</td>\n",
       "      <td>0</td>\n",
       "      <td>125</td>\n",
       "      <td>212</td>\n",
       "      <td>0</td>\n",
       "      <td>1</td>\n",
       "      <td>168</td>\n",
       "      <td>0</td>\n",
       "      <td>1.0</td>\n",
       "      <td>2</td>\n",
       "      <td>2</td>\n",
       "      <td>3</td>\n",
       "      <td>0</td>\n",
       "      <td>4</td>\n",
       "    </tr>\n",
       "    <tr>\n",
       "      <td>1</td>\n",
       "      <td>53</td>\n",
       "      <td>1</td>\n",
       "      <td>0</td>\n",
       "      <td>140</td>\n",
       "      <td>203</td>\n",
       "      <td>1</td>\n",
       "      <td>0</td>\n",
       "      <td>155</td>\n",
       "      <td>1</td>\n",
       "      <td>3.1</td>\n",
       "      <td>0</td>\n",
       "      <td>0</td>\n",
       "      <td>3</td>\n",
       "      <td>0</td>\n",
       "      <td>5</td>\n",
       "    </tr>\n",
       "    <tr>\n",
       "      <td>2</td>\n",
       "      <td>70</td>\n",
       "      <td>1</td>\n",
       "      <td>0</td>\n",
       "      <td>145</td>\n",
       "      <td>174</td>\n",
       "      <td>0</td>\n",
       "      <td>1</td>\n",
       "      <td>125</td>\n",
       "      <td>1</td>\n",
       "      <td>2.6</td>\n",
       "      <td>0</td>\n",
       "      <td>0</td>\n",
       "      <td>3</td>\n",
       "      <td>0</td>\n",
       "      <td>8</td>\n",
       "    </tr>\n",
       "    <tr>\n",
       "      <td>3</td>\n",
       "      <td>61</td>\n",
       "      <td>1</td>\n",
       "      <td>0</td>\n",
       "      <td>148</td>\n",
       "      <td>203</td>\n",
       "      <td>0</td>\n",
       "      <td>1</td>\n",
       "      <td>161</td>\n",
       "      <td>0</td>\n",
       "      <td>0.0</td>\n",
       "      <td>2</td>\n",
       "      <td>1</td>\n",
       "      <td>3</td>\n",
       "      <td>0</td>\n",
       "      <td>6</td>\n",
       "    </tr>\n",
       "    <tr>\n",
       "      <td>4</td>\n",
       "      <td>62</td>\n",
       "      <td>0</td>\n",
       "      <td>0</td>\n",
       "      <td>138</td>\n",
       "      <td>294</td>\n",
       "      <td>1</td>\n",
       "      <td>1</td>\n",
       "      <td>106</td>\n",
       "      <td>0</td>\n",
       "      <td>1.9</td>\n",
       "      <td>1</td>\n",
       "      <td>3</td>\n",
       "      <td>2</td>\n",
       "      <td>0</td>\n",
       "      <td>6</td>\n",
       "    </tr>\n",
       "  </tbody>\n",
       "</table>\n",
       "</div>"
      ],
      "text/plain": [
       "   age  sex  cp  trestbps  chol  fbs  restecg  thalach  exang  oldpeak  slope  \\\n",
       "0   52    1   0       125   212    0        1      168      0      1.0      2   \n",
       "1   53    1   0       140   203    1        0      155      1      3.1      0   \n",
       "2   70    1   0       145   174    0        1      125      1      2.6      0   \n",
       "3   61    1   0       148   203    0        1      161      0      0.0      2   \n",
       "4   62    0   0       138   294    1        1      106      0      1.9      1   \n",
       "\n",
       "   ca  thal  target AgeRange  \n",
       "0   2     3       0        4  \n",
       "1   0     3       0        5  \n",
       "2   0     3       0        8  \n",
       "3   1     3       0        6  \n",
       "4   3     2       0        6  "
      ]
     },
     "execution_count": 6,
     "metadata": {},
     "output_type": "execute_result"
    }
   ],
   "source": [
    "## Make Age in Range of  0-9,10-19,...\n",
    "AgeRange=pd.cut(Heart_data.age, bins=10, labels=np.arange(10), right=False)\n",
    "New_Heart_data=pd.concat([Heart_data,AgeRange.rename('AgeRange')],axis=1)\n",
    "New_Heart_data.head(5)"
   ]
  },
  {
   "cell_type": "code",
   "execution_count": 7,
   "metadata": {},
   "outputs": [
    {
     "name": "stdout",
     "output_type": "stream",
     "text": [
      "age:41\n",
      "sex:2\n",
      "cp:4\n",
      "trestbps:49\n",
      "chol:152\n",
      "fbs:2\n",
      "restecg:3\n",
      "thalach:91\n",
      "exang:2\n",
      "oldpeak:40\n",
      "slope:3\n",
      "ca:5\n",
      "thal:4\n",
      "target:2\n",
      "AgeRange:10\n"
     ]
    }
   ],
   "source": [
    "for  i in New_Heart_data.columns:\n",
    "  print(i+ \":\"+ str(New_Heart_data[i].nunique()))"
   ]
  },
  {
   "cell_type": "code",
   "execution_count": 8,
   "metadata": {},
   "outputs": [
    {
     "data": {
      "text/plain": [
       "1025"
      ]
     },
     "execution_count": 8,
     "metadata": {},
     "output_type": "execute_result"
    }
   ],
   "source": [
    "len(New_Heart_data.age)"
   ]
  },
  {
   "cell_type": "code",
   "execution_count": 9,
   "metadata": {},
   "outputs": [
    {
     "data": {
      "text/plain": [
       "0.5131707317073171"
      ]
     },
     "execution_count": 9,
     "metadata": {},
     "output_type": "execute_result"
    }
   ],
   "source": [
    "Survived=len(New_Heart_data[New_Heart_data['target']==1])\n",
    "SurvivedProb=Survived/len(New_Heart_data)\n",
    "SurvivedProb"
   ]
  },
  {
   "cell_type": "code",
   "execution_count": 10,
   "metadata": {},
   "outputs": [
    {
     "data": {
      "text/plain": [
       "0.4868292682926829"
      ]
     },
     "execution_count": 10,
     "metadata": {},
     "output_type": "execute_result"
    }
   ],
   "source": [
    "NSurvived=len(New_Heart_data[New_Heart_data['target']==0])\n",
    "NSurvivedProb=NSurvived/len(New_Heart_data)\n",
    "NSurvivedProb"
   ]
  },
  {
   "cell_type": "code",
   "execution_count": 11,
   "metadata": {},
   "outputs": [],
   "source": [
    "# calculate the column wise entropy for the split in the dataset\n",
    "def colentropy(list):\n",
    "    if(sum(list)<=1.01):\n",
    "        if \"NaN\" in list:\n",
    "            return 0\n",
    "        else:\n",
    "            return sum([-i*np.log2(i) for i in list])\n",
    "    else:\n",
    "        print(\"Sum of Probabilties in Column is not 1 %5.4f \" % sum(list))\n",
    "        return 0"
   ]
  },
  {
   "cell_type": "code",
   "execution_count": 12,
   "metadata": {},
   "outputs": [
    {
     "name": "stdout",
     "output_type": "stream",
     "text": [
      "entropy: 0.999 bits\n"
     ]
    }
   ],
   "source": [
    "entropy = -(SurvivedProb * math.log2(SurvivedProb) + NSurvivedProb * math.log2(NSurvivedProb))\n",
    "# print the result\n",
    "print('entropy: %.3f bits' % entropy)"
   ]
  },
  {
   "cell_type": "code",
   "execution_count": 13,
   "metadata": {},
   "outputs": [
    {
     "data": {
      "text/plain": [
       "0.9994994187527655"
      ]
     },
     "execution_count": 13,
     "metadata": {},
     "output_type": "execute_result"
    }
   ],
   "source": [
    "colentropy(New_Heart_data.target.value_counts()/len(New_Heart_data))"
   ]
  },
  {
   "cell_type": "code",
   "execution_count": 14,
   "metadata": {},
   "outputs": [
    {
     "data": {
      "text/plain": [
       "0.8865914760908439"
      ]
     },
     "execution_count": 14,
     "metadata": {},
     "output_type": "execute_result"
    }
   ],
   "source": [
    "colentropy(New_Heart_data.sex.value_counts()/len(New_Heart_data))"
   ]
  },
  {
   "cell_type": "code",
   "execution_count": 15,
   "metadata": {},
   "outputs": [
    {
     "data": {
      "text/plain": [
       "1.7264529972489449"
      ]
     },
     "execution_count": 15,
     "metadata": {},
     "output_type": "execute_result"
    }
   ],
   "source": [
    "colentropy(New_Heart_data.cp.value_counts()/len(New_Heart_data))"
   ]
  },
  {
   "cell_type": "code",
   "execution_count": 16,
   "metadata": {},
   "outputs": [
    {
     "data": {
      "text/plain": [
       "4.691862567518194"
      ]
     },
     "execution_count": 16,
     "metadata": {},
     "output_type": "execute_result"
    }
   ],
   "source": [
    "colentropy(New_Heart_data.trestbps.value_counts()/len(New_Heart_data))"
   ]
  },
  {
   "cell_type": "code",
   "execution_count": 17,
   "metadata": {},
   "outputs": [
    {
     "data": {
      "text/plain": [
       "2.892477700750043"
      ]
     },
     "execution_count": 17,
     "metadata": {},
     "output_type": "execute_result"
    }
   ],
   "source": [
    "colentropy(New_Heart_data.AgeRange.value_counts()/len(New_Heart_data))"
   ]
  },
  {
   "cell_type": "code",
   "execution_count": 18,
   "metadata": {},
   "outputs": [
    {
     "data": {
      "text/plain": [
       "1.3128051593763979"
      ]
     },
     "execution_count": 18,
     "metadata": {},
     "output_type": "execute_result"
    }
   ],
   "source": [
    "colentropy(New_Heart_data.thal.value_counts()/len(New_Heart_data))"
   ]
  },
  {
   "cell_type": "code",
   "execution_count": 19,
   "metadata": {},
   "outputs": [
    {
     "data": {
      "text/plain": [
       "1.6951932879964948"
      ]
     },
     "execution_count": 19,
     "metadata": {},
     "output_type": "execute_result"
    }
   ],
   "source": [
    "colentropy(New_Heart_data.ca.value_counts()/len(New_Heart_data))"
   ]
  },
  {
   "cell_type": "code",
   "execution_count": 20,
   "metadata": {},
   "outputs": [
    {
     "data": {
      "text/plain": [
       "1.301742342793691"
      ]
     },
     "execution_count": 20,
     "metadata": {},
     "output_type": "execute_result"
    }
   ],
   "source": [
    "colentropy(New_Heart_data.slope.value_counts()/len(New_Heart_data))"
   ]
  },
  {
   "cell_type": "code",
   "execution_count": 21,
   "metadata": {},
   "outputs": [
    {
     "data": {
      "text/plain": [
       "4.149288249700883"
      ]
     },
     "execution_count": 21,
     "metadata": {},
     "output_type": "execute_result"
    }
   ],
   "source": [
    "colentropy(New_Heart_data.oldpeak.value_counts()/len(New_Heart_data))"
   ]
  },
  {
   "cell_type": "code",
   "execution_count": 22,
   "metadata": {},
   "outputs": [
    {
     "data": {
      "text/plain": [
       "0.9215135925408615"
      ]
     },
     "execution_count": 22,
     "metadata": {},
     "output_type": "execute_result"
    }
   ],
   "source": [
    "colentropy(New_Heart_data.exang.value_counts()/len(New_Heart_data))"
   ]
  },
  {
   "cell_type": "code",
   "execution_count": 23,
   "metadata": {},
   "outputs": [
    {
     "data": {
      "text/plain": [
       "6.165862446519403"
      ]
     },
     "execution_count": 23,
     "metadata": {},
     "output_type": "execute_result"
    }
   ],
   "source": [
    "colentropy(New_Heart_data.thalach.value_counts()/len(New_Heart_data))"
   ]
  },
  {
   "cell_type": "code",
   "execution_count": 24,
   "metadata": {},
   "outputs": [
    {
     "data": {
      "text/plain": [
       "1.0953329001518302"
      ]
     },
     "execution_count": 24,
     "metadata": {},
     "output_type": "execute_result"
    }
   ],
   "source": [
    "colentropy(New_Heart_data.restecg.value_counts()/len(New_Heart_data))"
   ]
  },
  {
   "cell_type": "code",
   "execution_count": 25,
   "metadata": {},
   "outputs": [
    {
     "data": {
      "text/plain": [
       "0.6080061737709006"
      ]
     },
     "execution_count": 25,
     "metadata": {},
     "output_type": "execute_result"
    }
   ],
   "source": [
    "colentropy(New_Heart_data.fbs.value_counts()/len(New_Heart_data))"
   ]
  },
  {
   "cell_type": "code",
   "execution_count": 26,
   "metadata": {},
   "outputs": [
    {
     "data": {
      "text/plain": [
       "7.039829773535662"
      ]
     },
     "execution_count": 26,
     "metadata": {},
     "output_type": "execute_result"
    }
   ],
   "source": [
    "colentropy(New_Heart_data.chol.value_counts()/len(New_Heart_data))"
   ]
  },
  {
   "cell_type": "code",
   "execution_count": 27,
   "metadata": {},
   "outputs": [
    {
     "data": {
      "text/html": [
       "<div>\n",
       "<style scoped>\n",
       "    .dataframe tbody tr th:only-of-type {\n",
       "        vertical-align: middle;\n",
       "    }\n",
       "\n",
       "    .dataframe tbody tr th {\n",
       "        vertical-align: top;\n",
       "    }\n",
       "\n",
       "    .dataframe thead th {\n",
       "        text-align: right;\n",
       "    }\n",
       "</style>\n",
       "<table border=\"1\" class=\"dataframe\">\n",
       "  <thead>\n",
       "    <tr style=\"text-align: right;\">\n",
       "      <th>target</th>\n",
       "      <th>0</th>\n",
       "      <th>1</th>\n",
       "    </tr>\n",
       "    <tr>\n",
       "      <th>sex</th>\n",
       "      <th></th>\n",
       "      <th></th>\n",
       "    </tr>\n",
       "  </thead>\n",
       "  <tbody>\n",
       "    <tr>\n",
       "      <td>0</td>\n",
       "      <td>86</td>\n",
       "      <td>226</td>\n",
       "    </tr>\n",
       "    <tr>\n",
       "      <td>1</td>\n",
       "      <td>413</td>\n",
       "      <td>300</td>\n",
       "    </tr>\n",
       "  </tbody>\n",
       "</table>\n",
       "</div>"
      ],
      "text/plain": [
       "target    0    1\n",
       "sex             \n",
       "0        86  226\n",
       "1       413  300"
      ]
     },
     "execution_count": 27,
     "metadata": {},
     "output_type": "execute_result"
    }
   ],
   "source": [
    "group = New_Heart_data.groupby(['sex', 'target']) \n",
    "Gender_survived = group.size().unstack() \n",
    "Gender_survived"
   ]
  },
  {
   "cell_type": "code",
   "execution_count": 28,
   "metadata": {},
   "outputs": [
    {
     "data": {
      "text/plain": [
       "0    312\n",
       "1    713\n",
       "Name: sex, dtype: int64"
      ]
     },
     "execution_count": 28,
     "metadata": {},
     "output_type": "execute_result"
    }
   ],
   "source": [
    "New_Heart_data.sex.value_counts(sort=False)"
   ]
  },
  {
   "cell_type": "code",
   "execution_count": 29,
   "metadata": {},
   "outputs": [
    {
     "data": {
      "text/plain": [
       "0    0.30439\n",
       "1    0.69561\n",
       "Name: sex, dtype: float64"
      ]
     },
     "execution_count": 29,
     "metadata": {},
     "output_type": "execute_result"
    }
   ],
   "source": [
    "New_Heart_data.sex.value_counts(sort=False)/len(New_Heart_data)"
   ]
  },
  {
   "cell_type": "code",
   "execution_count": 30,
   "metadata": {},
   "outputs": [
    {
     "name": "stdout",
     "output_type": "stream",
     "text": [
      "Male Entropy : 0.9818048732531515\n",
      " Female Entropy : 0.8494431983166945\n"
     ]
    }
   ],
   "source": [
    "group = New_Heart_data.groupby(['sex', 'target']) \n",
    "Gender_survived = group.size().unstack() \n",
    "FemaleEntropy=colentropy(Gender_survived.iloc[0]/New_Heart_data.sex.value_counts()[0])\n",
    "MaleEntropy=colentropy(Gender_survived.iloc[1]/New_Heart_data.sex.value_counts()[1])\n",
    "print(\"Male Entropy : \"+str(MaleEntropy)+\"\\n Female Entropy : \"+str(FemaleEntropy))"
   ]
  },
  {
   "cell_type": "code",
   "execution_count": 31,
   "metadata": {},
   "outputs": [
    {
     "name": "stdout",
     "output_type": "stream",
     "text": [
      "0.9994994187527655\n"
     ]
    }
   ],
   "source": [
    "#Gender Column Entropy\n",
    "HS=colentropy(New_Heart_data.target.value_counts()/len(New_Heart_data))\n",
    "print(HS)"
   ]
  },
  {
   "cell_type": "code",
   "execution_count": 32,
   "metadata": {},
   "outputs": [
    {
     "data": {
      "text/plain": [
       "0.057984148016857584"
      ]
     },
     "execution_count": 32,
     "metadata": {},
     "output_type": "execute_result"
    }
   ],
   "source": [
    "Val=New_Heart_data.sex.value_counts()/sum(Gender_survived.sum(axis=1))\n",
    "HS-Val[0]*FemaleEntropy-Val[1]*MaleEntropy"
   ]
  },
  {
   "cell_type": "code",
   "execution_count": 33,
   "metadata": {},
   "outputs": [
    {
     "name": "stdout",
     "output_type": "stream",
     "text": [
      "0.9994994187527655\n"
     ]
    },
    {
     "data": {
      "text/plain": [
       "0.20848408129015084"
      ]
     },
     "execution_count": 33,
     "metadata": {},
     "output_type": "execute_result"
    }
   ],
   "source": [
    "cp_group = New_Heart_data.groupby(['cp', 'target']) \n",
    "cp_survived = cp_group.size().unstack() \n",
    "cpEntropy0=colentropy(cp_survived.iloc[0]/New_Heart_data.cp.value_counts()[0])\n",
    "cpEntropy1=colentropy(cp_survived.iloc[1]/New_Heart_data.cp.value_counts()[1])\n",
    "cpEntropy2=colentropy(cp_survived.iloc[2]/New_Heart_data.cp.value_counts()[2])\n",
    "cpEntropy3=colentropy(cp_survived.iloc[3]/New_Heart_data.cp.value_counts()[3])\n",
    "\n",
    "cp_HS=colentropy(New_Heart_data.target.value_counts()/len(New_Heart_data))\n",
    "print(cp_HS)\n",
    "\n",
    "cp_Val=New_Heart_data.cp.value_counts()/sum(cp_survived.sum(axis=1))\n",
    "HS-cp_Val[0]*cpEntropy0-cp_Val[1]*cpEntropy1-cp_Val[2]*cpEntropy2-cp_Val[3]*cpEntropy3"
   ]
  },
  {
   "cell_type": "code",
   "execution_count": 34,
   "metadata": {},
   "outputs": [
    {
     "data": {
      "text/plain": [
       "0.0012222219885129892"
      ]
     },
     "execution_count": 34,
     "metadata": {},
     "output_type": "execute_result"
    }
   ],
   "source": [
    "fbs_group = New_Heart_data.groupby(['fbs', 'target']) \n",
    "fbs_survived = fbs_group.size().unstack() \n",
    "fbsEntropy0=colentropy(fbs_survived.iloc[0]/New_Heart_data.fbs.value_counts()[0])\n",
    "fbsEntropy1=colentropy(fbs_survived.iloc[1]/New_Heart_data.fbs.value_counts()[1])\n",
    "\n",
    "fbs_Val=New_Heart_data.fbs.value_counts()/sum(fbs_survived.sum(axis=1))\n",
    "HS-fbs_Val[0]*fbsEntropy0-fbs_Val[1]*fbsEntropy1"
   ]
  },
  {
   "cell_type": "code",
   "execution_count": 35,
   "metadata": {},
   "outputs": [
    {
     "data": {
      "text/plain": [
       "0.025564125201272558"
      ]
     },
     "execution_count": 35,
     "metadata": {},
     "output_type": "execute_result"
    }
   ],
   "source": [
    "restecg_group = New_Heart_data.groupby(['restecg', 'target']) \n",
    "restecg_survived = restecg_group.size().unstack() \n",
    "restecgEntropy0=colentropy(restecg_survived.iloc[0]/New_Heart_data.restecg.value_counts()[0])\n",
    "restecgEntropy1=colentropy(restecg_survived.iloc[1]/New_Heart_data.restecg.value_counts()[1])\n",
    "restecgEntropy2=colentropy(restecg_survived.iloc[2]/New_Heart_data.restecg.value_counts()[2])\n",
    "\n",
    "restecg_Val=New_Heart_data.restecg.value_counts()/sum(restecg_survived.sum(axis=1))\n",
    "HS-restecg_Val[0]*restecgEntropy0-restecg_Val[1]*restecgEntropy1-restecg_Val[2]*restecgEntropy2"
   ]
  },
  {
   "cell_type": "code",
   "execution_count": 36,
   "metadata": {},
   "outputs": [
    {
     "data": {
      "text/plain": [
       "0.14508525466082522"
      ]
     },
     "execution_count": 36,
     "metadata": {},
     "output_type": "execute_result"
    }
   ],
   "source": [
    "exang_group = New_Heart_data.groupby(['exang', 'target']) \n",
    "exang_survived = exang_group.size().unstack() \n",
    "exangEntropy0=colentropy(exang_survived.iloc[0]/New_Heart_data.exang.value_counts()[0])\n",
    "exangEntropy1=colentropy(exang_survived.iloc[1]/New_Heart_data.exang.value_counts()[1])\n",
    "\n",
    "exang_Val=New_Heart_data.exang.value_counts()/sum(exang_survived.sum(axis=1))\n",
    "HS-exang_Val[0]*exangEntropy0-exang_Val[1]*exangEntropy1"
   ]
  },
  {
   "cell_type": "code",
   "execution_count": 37,
   "metadata": {},
   "outputs": [
    {
     "data": {
      "text/plain": [
       "0.11294554879194518"
      ]
     },
     "execution_count": 37,
     "metadata": {},
     "output_type": "execute_result"
    }
   ],
   "source": [
    "slope_group = New_Heart_data.groupby(['slope', 'target']) \n",
    "slope_survived = slope_group.size().unstack() \n",
    "slopeEntropy0=colentropy(slope_survived.iloc[0]/New_Heart_data.slope.value_counts()[0])\n",
    "slopeEntropy1=colentropy(slope_survived.iloc[1]/New_Heart_data.slope.value_counts()[1])\n",
    "slopeEntropy2=colentropy(slope_survived.iloc[2]/New_Heart_data.slope.value_counts()[2])\n",
    "\n",
    "slope_Val=New_Heart_data.slope.value_counts()/sum(slope_survived.sum(axis=1))\n",
    "HS-slope_Val[0]*slopeEntropy0-slope_Val[1]*slopeEntropy1-slope_Val[2]*slopeEntropy2"
   ]
  },
  {
   "cell_type": "code",
   "execution_count": 38,
   "metadata": {},
   "outputs": [
    {
     "data": {
      "text/plain": [
       "0.19254560055507045"
      ]
     },
     "execution_count": 38,
     "metadata": {},
     "output_type": "execute_result"
    }
   ],
   "source": [
    "ca_group = New_Heart_data.groupby(['ca', 'target']) \n",
    "ca_survived = ca_group.size().unstack() \n",
    "caEntropy0=colentropy(ca_survived.iloc[0]/New_Heart_data.ca.value_counts()[0])\n",
    "caEntropy1=colentropy(ca_survived.iloc[1]/New_Heart_data.ca.value_counts()[1])\n",
    "caEntropy2=colentropy(ca_survived.iloc[2]/New_Heart_data.ca.value_counts()[2])\n",
    "caEntropy3=colentropy(ca_survived.iloc[3]/New_Heart_data.ca.value_counts()[3])\n",
    "caEntropy4=colentropy(ca_survived.iloc[4]/New_Heart_data.ca.value_counts()[4])\n",
    "\n",
    "ca_Val=New_Heart_data.ca.value_counts()/sum(ca_survived.sum(axis=1))\n",
    "HS-ca_Val[0]*caEntropy0-ca_Val[1]*caEntropy1-ca_Val[2]*caEntropy2-ca_Val[3]*caEntropy3-ca_Val[4]*caEntropy4"
   ]
  },
  {
   "cell_type": "code",
   "execution_count": 39,
   "metadata": {},
   "outputs": [
    {
     "data": {
      "text/plain": [
       "0.20777925965941457"
      ]
     },
     "execution_count": 39,
     "metadata": {},
     "output_type": "execute_result"
    }
   ],
   "source": [
    "thal_group = New_Heart_data.groupby(['thal', 'target']) \n",
    "thal_survived = thal_group.size().unstack() \n",
    "thalEntropy0=colentropy(thal_survived.iloc[0]/New_Heart_data.thal.value_counts()[0])\n",
    "thalEntropy1=colentropy(thal_survived.iloc[1]/New_Heart_data.thal.value_counts()[1])\n",
    "thalEntropy2=colentropy(thal_survived.iloc[2]/New_Heart_data.thal.value_counts()[2])\n",
    "thalEntropy3=colentropy(thal_survived.iloc[3]/New_Heart_data.thal.value_counts()[3])\n",
    "\n",
    "thal_Val=New_Heart_data.thal.value_counts()/sum(thal_survived.sum(axis=1))\n",
    "HS-thal_Val[0]*thalEntropy0-thal_Val[1]*thalEntropy1-thal_Val[2]*thalEntropy2-thal_Val[3]*thalEntropy3"
   ]
  },
  {
   "cell_type": "code",
   "execution_count": 40,
   "metadata": {},
   "outputs": [],
   "source": [
    "#AgeRange_group = New_Heart_data.groupby(['AgeRange', 'target']) \n",
    "#AgeRange_survived = AgeRange_group.size().unstack() \n",
    "#AgeRangeEntropy0=colentropy(AgeRange_survived.iloc[0]/New_Heart_data.AgeRange.value_counts()[0])\n",
    "#AgeRangeEntropy1=colentropy(AgeRange_survived.iloc[1]/New_Heart_data.AgeRange.value_counts()[1])\n",
    "#AgeRangeEntropy2=colentropy(AgeRange_survived.iloc[2]/New_Heart_data.AgeRange.value_counts()[2])\n",
    "#AgeRangeEntropy3=colentropy(AgeRange_survived.iloc[3]/New_Heart_data.AgeRange.value_counts()[3])\n",
    "#AgeRangeEntropy4=colentropy(AgeRange_survived.iloc[4]/New_Heart_data.AgeRange.value_counts()[4])\n",
    "#AgeRangeEntropy5=colentropy(AgeRange_survived.iloc[5]/New_Heart_data.AgeRange.value_counts()[5])\n",
    "#AgeRangeEntropy6=colentropy(AgeRange_survived.iloc[6]/New_Heart_data.AgeRange.value_counts()[6])\n",
    "#AgeRangeEntropy7=colentropy(AgeRange_survived.iloc[7]/New_Heart_data.AgeRange.value_counts()[7])\n",
    "#AgeRangeEntropy8=colentropy(AgeRange_survived.iloc[8]/New_Heart_data.AgeRange.value_counts()[8])\n",
    "#AgeRangeEntropy9=colentropy(AgeRange_survived.iloc[9]/New_Heart_data.AgeRange.value_counts()[9])\n",
    "\n",
    "#AgeRange_Val=New_Heart_data.AgeRange.value_counts()/sum(AgeRange_survived.sum(axis=1))\n",
    "#HS-AgeRange_Val[0]*AgeRangeEntropy0-AgeRange_Val[1]*AgeRangeEntropy1-AgeRange_Val[2]*AgeRangeEntropy2-AgeRange_Val[3]*AgeRangeEntropy3-AgeRange_Val[4]*AgeRangeEntropy4-AgeRange_Val[5]*AgeRangeEntropy5-AgeRange_Val[6]*AgeRangeEntropy6-AgeRange_Val[7]*AgeRangeEntropy7-AgeRange_Val[8]*AgeRangeEntropy8-AgeRange_Val[9]*AgeRangeEntropy9"
   ]
  },
  {
   "cell_type": "code",
   "execution_count": 41,
   "metadata": {},
   "outputs": [
    {
     "name": "stdout",
     "output_type": "stream",
     "text": [
      "target    0    1\n",
      "cp              \n",
      "0       375  122\n",
      "1        33  134\n",
      "2        65  219\n",
      "3        26   51\n",
      "target    0    1\n",
      "fbs             \n",
      "0       417  455\n",
      "1        82   71\n",
      "target     0    1\n",
      "restecg          \n",
      "0        283  214\n",
      "1        204  309\n",
      "2         12    3\n",
      "target    0    1\n",
      "exang           \n",
      "0       225  455\n",
      "1       274   71\n",
      "target    0    1\n",
      "slope           \n",
      "0        46   28\n",
      "1       324  158\n",
      "2       129  340\n",
      "target    0    1\n",
      "ca              \n",
      "0       163  415\n",
      "1       160   66\n",
      "2       113   21\n",
      "3        60    9\n",
      "4         3   15\n",
      "target    0    1\n",
      "thal            \n",
      "0         4    3\n",
      "1        43   21\n",
      "2       132  412\n",
      "3       320   90\n"
     ]
    }
   ],
   "source": [
    "print(cp_survived)\n",
    "print(fbs_survived)\n",
    "print(restecg_survived)\n",
    "print(exang_survived)\n",
    "print(slope_survived)\n",
    "print(ca_survived)\n",
    "print(thal_survived)\n",
    "#AgeRange_survived"
   ]
  }
 ],
 "metadata": {
  "kernelspec": {
   "display_name": "Python 3",
   "language": "python",
   "name": "python3"
  },
  "language_info": {
   "codemirror_mode": {
    "name": "ipython",
    "version": 3
   },
   "file_extension": ".py",
   "mimetype": "text/x-python",
   "name": "python",
   "nbconvert_exporter": "python",
   "pygments_lexer": "ipython3",
   "version": "3.7.4"
  }
 },
 "nbformat": 4,
 "nbformat_minor": 2
}
